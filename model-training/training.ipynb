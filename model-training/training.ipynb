{
 "cells": [
  {
   "cell_type": "markdown",
   "id": "bde0d3ff",
   "metadata": {},
   "source": [
    "# Traffic Sign Classification"
   ]
  },
  {
   "cell_type": "markdown",
   "id": "df94e6fc",
   "metadata": {},
   "source": [
    "Traffic sign classification is an important task for self driving cars.  \n",
    "In this project, a Deep Network known as LeNet will be used for traffic sign images classification.  \n",
    "The dataset contains 43 different classes of images.  \n",
    "\n",
    "Classes are as listed below:\n",
    "\n",
    "1. ( 0, b'Speed limit (20km/h)')  \n",
    "2. ( 1, b'Speed limit (30km/h)')\n",
    "3. ( 2, b'Speed limit (50km/h)') \n",
    "4. ( 3, b'Speed limit (60km/h)') \n",
    "5. ( 4, b'Speed limit (70km/h)') \n",
    "6. ( 5, b'Speed limit (80km/h)') \n",
    "7. ( 6, b'End of speed limit (80km/h)') \n",
    "8. ( 7, b'Speed limit (100km/h)') \n",
    "9. ( 8, b'Speed limit (120km/h)') \n",
    "10. ( 9, b'No passing') \n",
    "11. (10, b'No passing for vehicles over 3.5 metric tons') \n",
    "12. (11, b'Right-of-way at the next intersection') \n",
    "13. (12, b'Priority road') \n",
    "14. (13, b'Yield') \n",
    "15. (14, b'Stop') \n",
    "16. (15, b'No vehicles') \n",
    "17. (16, b'Vehicles over 3.5 metric tons prohibited')\n",
    "18. (17, b'No entry')\n",
    "19. (18, b'General caution') \n",
    "20. (19, b'Dangerous curve to the left')\n",
    "21. (20, b'Dangerous curve to the right')\n",
    "22. (21, b'Double curve')\n",
    "23. (22, b'Bumpy road')\n",
    "24. (23, b'Slippery road')\n",
    "25. (24, b'Road narrows on the right')\n",
    "26. (25, b'Road work')\n",
    "27. (26, b'Traffic signals')\n",
    "28. (27, b'Pedestrians') \n",
    "29. (28, b'Children crossing')\n",
    "30. (29, b'Bicycles crossing')\n",
    "31. (30, b'Beware of ice/snow')\n",
    "32. (31, b'Wild animals crossing')\n",
    "33. (32, b'End of all speed and passing limits')\n",
    "34. (33, b'Turn right ahead')\n",
    "35. (34, b'Turn left ahead') \n",
    "36. (35, b'Ahead only') \n",
    "37. (36, b'Go straight or right')\n",
    "38. (37, b'Go straight or left') \n",
    "39. (38, b'Keep right') \n",
    "40. (39, b'Keep left')\n",
    "41. (40, b'Roundabout mandatory') \n",
    "42. (41, b'End of no passing')\n",
    "43. (42, b'End of no passing by vehicles over 3.5 metric tons')"
   ]
  },
  {
   "cell_type": "code",
   "execution_count": 2,
   "id": "31e944c0",
   "metadata": {},
   "outputs": [],
   "source": [
    "## Import Libraries"
   ]
  },
  {
   "cell_type": "code",
   "execution_count": 3,
   "id": "2e741717",
   "metadata": {},
   "outputs": [],
   "source": [
    "## Load Dataset"
   ]
  },
  {
   "cell_type": "code",
   "execution_count": 4,
   "id": "62d270af",
   "metadata": {},
   "outputs": [],
   "source": [
    "## Model"
   ]
  },
  {
   "cell_type": "code",
   "execution_count": 5,
   "id": "4cca7809",
   "metadata": {},
   "outputs": [],
   "source": [
    "## Model Training"
   ]
  },
  {
   "cell_type": "code",
   "execution_count": 6,
   "id": "5d1ebcd8",
   "metadata": {},
   "outputs": [],
   "source": [
    "## Model Testing"
   ]
  },
  {
   "cell_type": "code",
   "execution_count": null,
   "id": "e499e379",
   "metadata": {},
   "outputs": [],
   "source": []
  }
 ],
 "metadata": {
  "kernelspec": {
   "display_name": "Python 3",
   "language": "python",
   "name": "python3"
  },
  "language_info": {
   "codemirror_mode": {
    "name": "ipython",
    "version": 3
   },
   "file_extension": ".py",
   "mimetype": "text/x-python",
   "name": "python",
   "nbconvert_exporter": "python",
   "pygments_lexer": "ipython3",
   "version": "3.8.8"
  }
 },
 "nbformat": 4,
 "nbformat_minor": 5
}
